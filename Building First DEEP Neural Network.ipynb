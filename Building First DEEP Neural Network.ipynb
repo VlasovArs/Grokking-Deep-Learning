{
 "cells": [
  {
   "cell_type": "code",
   "execution_count": 62,
   "id": "dd29c90b",
   "metadata": {},
   "outputs": [],
   "source": [
    "import numpy as np"
   ]
  },
  {
   "cell_type": "code",
   "execution_count": 63,
   "id": "b93f4aba",
   "metadata": {},
   "outputs": [],
   "source": [
    "def relu(x):\n",
    "    return (x>0)*x #return x if x>0 else 0"
   ]
  },
  {
   "cell_type": "code",
   "execution_count": 64,
   "id": "eef98167",
   "metadata": {},
   "outputs": [],
   "source": [
    "def relu2deriv(output): #deriv relu\n",
    "    return output>0 #return 1 if output>0 else 0"
   ]
  },
  {
   "cell_type": "code",
   "execution_count": 65,
   "id": "558b093e",
   "metadata": {},
   "outputs": [],
   "source": [
    "streetlights = np.array([[1, 0, 1],\n",
    "                         [0, 1, 1],\n",
    "                         [0, 0, 1],\n",
    "                         [1, 1, 1]])\n",
    "\n",
    "walk_vs_stop = np.array([[1, 1, 0, 0]]).T"
   ]
  },
  {
   "cell_type": "code",
   "execution_count": 66,
   "id": "943c91ab",
   "metadata": {},
   "outputs": [],
   "source": [
    "alpha = 0.2\n",
    "hidden_size = 4"
   ]
  },
  {
   "cell_type": "code",
   "execution_count": 67,
   "id": "28bbd673",
   "metadata": {},
   "outputs": [],
   "source": [
    "weight_0_1 = 2*np.random.random((3, hidden_size)) - 1 #So that not all weights are positive\n",
    "weight_1_2 = 2*np.random.random((hidden_size, 1)) - 1 "
   ]
  },
  {
   "cell_type": "code",
   "execution_count": 68,
   "id": "0d89eb64",
   "metadata": {},
   "outputs": [
    {
     "data": {
      "text/plain": [
       "array([[-0.42444932, -0.73994286, -0.96126608,  0.35767107],\n",
       "       [-0.57674377, -0.46890668, -0.01685368, -0.89327491],\n",
       "       [ 0.14823521, -0.70654285,  0.17861107,  0.39951672]])"
      ]
     },
     "execution_count": 68,
     "metadata": {},
     "output_type": "execute_result"
    }
   ],
   "source": [
    "weight_0_1"
   ]
  },
  {
   "cell_type": "code",
   "execution_count": 69,
   "id": "2981be6a",
   "metadata": {},
   "outputs": [
    {
     "data": {
      "text/plain": [
       "array([[-0.79533114],\n",
       "       [-0.17188802],\n",
       "       [ 0.38880032],\n",
       "       [-0.17164146]])"
      ]
     },
     "execution_count": 69,
     "metadata": {},
     "output_type": "execute_result"
    }
   ],
   "source": [
    "weight_1_2"
   ]
  },
  {
   "cell_type": "code",
   "execution_count": null,
   "id": "dbd23880",
   "metadata": {},
   "outputs": [],
   "source": []
  },
  {
   "cell_type": "code",
   "execution_count": 70,
   "id": "5270beaa",
   "metadata": {},
   "outputs": [
    {
     "name": "stdout",
     "output_type": "stream",
     "text": [
      "Error:9.860761646912255e-32\n",
      "Error:9.860761334616633e-32\n",
      "Error:9.860761316392083e-32\n",
      "Error:9.860761315328555e-32\n",
      "Error:9.860761315266495e-32\n",
      "Error:9.860761315262873e-32\n"
     ]
    }
   ],
   "source": [
    "for iteration in range(60):\n",
    "    layer_2_error = 0\n",
    "    for i in range(len(streetlights)):\n",
    "        layer_0 = streetlights[i:i+1]\n",
    "        layer_1 = relu(np.dot(layer_0,weights_0_1))\n",
    "        layer_2 = np.dot(layer_1,weights_1_2)\n",
    "\n",
    "        layer_2_error += np.sum((layer_2 - walk_vs_stop[i:i+1]) ** 2)\n",
    "\n",
    "        layer_2_delta = (walk_vs_stop[i:i+1] - layer_2)\n",
    "        layer_1_delta=layer_2_delta.dot(weights_1_2.T)*relu2deriv(layer_1)\n",
    "\n",
    "        weights_1_2 += alpha * layer_1.T.dot(layer_2_delta)\n",
    "        weights_0_1 += alpha * layer_0.T.dot(layer_1_delta)\n",
    "\n",
    "    if(iteration % 10 == 9):\n",
    "        print(\"Error:\" + str(layer_2_error))"
   ]
  },
  {
   "cell_type": "code",
   "execution_count": null,
   "id": "2a28a596",
   "metadata": {},
   "outputs": [],
   "source": []
  },
  {
   "cell_type": "code",
   "execution_count": null,
   "id": "1cada3e7",
   "metadata": {},
   "outputs": [],
   "source": []
  },
  {
   "cell_type": "code",
   "execution_count": null,
   "id": "dfe47bc7",
   "metadata": {},
   "outputs": [],
   "source": []
  }
 ],
 "metadata": {
  "kernelspec": {
   "display_name": "Python 3 (ipykernel)",
   "language": "python",
   "name": "python3"
  },
  "language_info": {
   "codemirror_mode": {
    "name": "ipython",
    "version": 3
   },
   "file_extension": ".py",
   "mimetype": "text/x-python",
   "name": "python",
   "nbconvert_exporter": "python",
   "pygments_lexer": "ipython3",
   "version": "3.9.12"
  }
 },
 "nbformat": 4,
 "nbformat_minor": 5
}
